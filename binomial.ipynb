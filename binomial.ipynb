{
 "cells": [
  {
   "cell_type": "markdown",
   "id": "c43598c9-e0db-430b-af28-1d1ab7d9d3aa",
   "metadata": {},
   "source": [
    "### Business Context\n",
    "\n",
    "A leading pharmaceutical company has tested five batches of a vaccine. With 300,000 doses already administered, the sixth batch of 60,000 doses needs quality assurance testing for effectiveness and curing time. \n",
    "* Previous data shows each dose is twice as likely to be satisfactory as unsatisfactory. This test is to ensure the sixth batch's quality, not a clinical trial.\n",
    "\n",
    "#### Objective\n",
    "Analyze random samples from the sixth batch to infer its quality and curing time. Your tasks include:\n",
    "\n",
    "##### Task 1: Analyze 10 randomly selected doses to determine:\n",
    "\n",
    "* Probability distribution of unsatisfactory doses\n",
    "* Probability that exactly 3 out of 10 doses are unsatisfactory\n",
    "* Probability that at most 3 out of 10 doses are unsatisfactory\n",
    "* Probability that more than 8 out of 10 doses are satisfactory\n",
    "  \n",
    "##### Task 2: For 20 doses requested by the New York City administration:\n",
    "* Probability that at least 11 out of 20 doses are unsatisfactory\n",
    "* Probability that at most 5 out of 20 doses are unsatisfactory\n",
    "* Probability that at least 13 out of 20 doses are satisfactory\n",
    "  \n",
    "##### Task 3: Analyze the time of effect for 50 doses given to volunteers.\n",
    "* Probability that the time of effect is less than 11.5 hours\n",
    "* Probability that the time of effect is more than 10 hours\n",
    "* Calculate the 90th percentile of the time of effect\n",
    "* Use dataset doses.csv. The features in the dataset are:\n",
    "    * drug_serial_number: Unique serial number of a dose\n",
    "    * time_of_effect: Time taken for the dose to completely cure COVID (in hours):\n",
    "\n",
    "*Note: A satisfactory dose means it completely cures COVID-19 without side effects.*"
   ]
  },
  {
   "cell_type": "code",
   "execution_count": 4,
   "id": "4e8e0602-5f9c-4301-b55a-9a67a81e4ce1",
   "metadata": {},
   "outputs": [],
   "source": [
    "import pandas as pd\n",
    "import numpy as np\n",
    "import matplotlib.pyplot as plt\n",
    "import seaborn as sns\n",
    "import scipy.stats as stats\n",
    "from scipy.stats import binom"
   ]
  },
  {
   "cell_type": "code",
   "execution_count": 6,
   "id": "ddf5ccd2-f96f-4fc6-a4b7-e90bc4cd8dae",
   "metadata": {},
   "outputs": [
    {
     "data": {
      "text/plain": [
       "array([1.82283780e-02, 8.97815635e-02, 1.98993465e-01, 2.61364552e-01,\n",
       "       2.25280640e-01, 1.33150945e-01, 5.46515074e-02, 1.53816609e-02,\n",
       "       2.84101573e-03, 3.10956945e-04, 1.53157899e-05])"
      ]
     },
     "execution_count": 6,
     "metadata": {},
     "output_type": "execute_result"
    }
   ],
   "source": [
    "n = 10\n",
    "p = 0.33\n",
    "k = np.arange(0,11)\n",
    "binomial_prob = binom.pmf(k= k, n= n, p = p)\n",
    "binomial_prob"
   ]
  },
  {
   "cell_type": "code",
   "execution_count": 12,
   "id": "cb8b1079-e188-4137-b297-c7ba459e1cf3",
   "metadata": {},
   "outputs": [
    {
     "data": {
      "text/plain": [
       "Text(0, 0.5, 'Probability')"
      ]
     },
     "execution_count": 12,
     "metadata": {},
     "output_type": "execute_result"
    },
    {
     "data": {
      "image/png": "[encoded data removed]",
      "text/plain": [
       "<Figure size 640x480 with 1 Axes>"
      ]
     },
     "metadata": {},
     "output_type": "display_data"
    }
   ],
   "source": [
    "plt.bar(k,binomial_prob)\n",
    "plt.xlabel(\"No of unsatisfactory doses\")\n",
    "plt.ylabel(\"Probability\")\n"
   ]
  },
  {
   "cell_type": "code",
   "execution_count": 13,
   "id": "0c11a4a0-405d-4d98-a1ec-117a9aaecc08",
   "metadata": {},
   "outputs": [
    {
     "data": {
      "text/plain": [
       "0.2613645515525909"
      ]
     },
     "execution_count": 13,
     "metadata": {},
     "output_type": "execute_result"
    }
   ],
   "source": [
    "binom.pmf(k=3 , n=n, p=p)"
   ]
  },
  {
   "cell_type": "code",
   "execution_count": 14,
   "id": "804c157c-44af-4111-ba53-9d24f8832f4a",
   "metadata": {},
   "outputs": [
    {
     "data": {
      "text/plain": [
       "0.5683679584925142"
      ]
     },
     "execution_count": 14,
     "metadata": {},
     "output_type": "execute_result"
    }
   ],
   "source": [
    "binom.cdf(k=3, n=n , p=p)"
   ]
  },
  {
   "cell_type": "code",
   "execution_count": null,
   "id": "98eccf77-9dcf-4099-9d1b-2d8b1f804f85",
   "metadata": {},
   "outputs": [],
   "source": []
  }
 ],
 "metadata": {
  "kernelspec": {
   "display_name": "Python 3 (ipykernel)",
   "language": "python",
   "name": "python3"
  },
  "language_info": {
   "codemirror_mode": {
    "name": "ipython",
    "version": 3
   },
   "file_extension": ".py",
   "mimetype": "text/x-python",
   "name": "python",
   "nbconvert_exporter": "python",
   "pygments_lexer": "ipython3",
   "version": "3.11.2"
  }
 },
 "nbformat": 4,
 "nbformat_minor": 5
}

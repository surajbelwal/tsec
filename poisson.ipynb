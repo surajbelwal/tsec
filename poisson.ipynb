{
 "cells": [
  {
   "cell_type": "code",
   "execution_count": 24,
   "id": "29cb01d0-9a7e-4abd-9587-602aa47b0227",
   "metadata": {},
   "outputs": [],
   "source": [
    "import scipy.stats as stats\n",
    "k = stats.poisson.pmf(5,3)"
   ]
  },
  {
   "cell_type": "code",
   "execution_count": 25,
   "id": "164be9b5-6e18-478b-ac00-8398abd28a64",
   "metadata": {},
   "outputs": [
    {
     "name": "stdout",
     "output_type": "stream",
     "text": [
      "10.081881344492457\n"
     ]
    }
   ],
   "source": [
    "print(k*100)"
   ]
  },
  {
   "cell_type": "code",
   "execution_count": 27,
   "id": "64ed48e9-7484-4d0f-bbf7-1566feb5cdbb",
   "metadata": {},
   "outputs": [
    {
     "name": "stdout",
     "output_type": "stream",
     "text": [
      "10.444486295705396\n"
     ]
    }
   ],
   "source": [
    "a = stats.poisson.pmf(7,5)\n",
    "print(a*100) "
   ]
  },
  {
   "cell_type": "markdown",
   "id": "726911bb-e38c-41ac-b0d2-c6ec16b073e7",
   "metadata": {},
   "source": [
    "#### PROBLEM 2 Aircraft Problem\n",
    "- number of accidents per year = 15"
   ]
  },
  {
   "cell_type": "code",
   "execution_count": 28,
   "id": "54edf7bf-3bb9-4eda-a5ec-b65ef29e4a15",
   "metadata": {},
   "outputs": [
    {
     "name": "stdout",
     "output_type": "stream",
     "text": [
      "Mean accidents every month:  1.25\n"
     ]
    }
   ],
   "source": [
    "#mean accidents per month\n",
    "avg_year = 15\n",
    "print(\"Mean accidents every month: \" , avg_year/12)"
   ]
  },
  {
   "cell_type": "code",
   "execution_count": 41,
   "id": "6f45eecc-15aa-484c-9cd3-2dc64ab2af35",
   "metadata": {},
   "outputs": [
    {
     "name": "stdout",
     "output_type": "stream",
     "text": [
      "0.2865047968601901\n"
     ]
    }
   ],
   "source": [
    "#Probability of no accidents during a month\n",
    "l = stats.poisson.pmf(0,1.25)\n",
    "print(l)"
   ]
  },
  {
   "cell_type": "code",
   "execution_count": 42,
   "id": "09e0f651-d7db-4ecb-a590-53c83aa10dbf",
   "metadata": {},
   "outputs": [
    {
     "name": "stdout",
     "output_type": "stream",
     "text": [
      "0.35813099607523763\n"
     ]
    }
   ],
   "source": [
    "s = stats.poisson.pmf(1,1.25)\n",
    "print(s)"
   ]
  },
  {
   "cell_type": "code",
   "execution_count": 46,
   "id": "81385c2e-e6e4-44af-a08e-ba1ae523cb78",
   "metadata": {},
   "outputs": [
    {
     "name": "stdout",
     "output_type": "stream",
     "text": [
      "0.35536420706457217\n"
     ]
    }
   ],
   "source": [
    "s = 1- stats.poisson.cdf(1,1.25)\n",
    "print(s)"
   ]
  },
  {
   "cell_type": "code",
   "execution_count": null,
   "id": "92d4ab0f-789a-4e08-935b-b4472bcc1159",
   "metadata": {},
   "outputs": [],
   "source": []
  }
 ],
 "metadata": {
  "kernelspec": {
   "display_name": "Python 3 (ipykernel)",
   "language": "python",
   "name": "python3"
  },
  "language_info": {
   "codemirror_mode": {
    "name": "ipython",
    "version": 3
   },
   "file_extension": ".py",
   "mimetype": "text/x-python",
   "name": "python",
   "nbconvert_exporter": "python",
   "pygments_lexer": "ipython3",
   "version": "3.11.2"
  }
 },
 "nbformat": 4,
 "nbformat_minor": 5
}

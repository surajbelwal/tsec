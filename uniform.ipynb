{
 "cells": [
  {
   "cell_type": "markdown",
   "id": "39b37f72-b217-4746-823f-6077926cc77a",
   "metadata": {},
   "source": [
    "#### When the probability of occurrence is uniformly distributed it is known as uniform distribution\n",
    "ex. rolling a die\n",
    "all outcomes are equally likely\n",
    "\n",
    "two types: discrete and continuous\n",
    "discrete: outcomes are finite and discrete\n",
    "continuous: outcomes are continuous and can take any value within a specified range\n",
    "\n",
    "#### The distribution is defined by two parameters:\n",
    "    a) a and b which represent the minimum and maximum value"
   ]
  },
  {
   "cell_type": "code",
   "execution_count": null,
   "id": "045d9303-3c30-4a18-a34c-56584320c224",
   "metadata": {},
   "outputs": [],
   "source": [
    "#a random number generator generates btw 20 and 50, find the probability that nnumber will be greater than 35\n",
    "\n",
    "#a = 20\n",
    "#b = 50"
   ]
  },
  {
   "cell_type": "code",
   "execution_count": 1,
   "id": "0897d7e9-c730-436a-8131-4f0d97792e09",
   "metadata": {},
   "outputs": [],
   "source": [
    "import scipy.stats as stats"
   ]
  },
  {
   "cell_type": "code",
   "execution_count": 11,
   "id": "793d9856-a2c7-4eb8-9e6c-578eb4a2a875",
   "metadata": {},
   "outputs": [
    {
     "data": {
      "text/plain": [
       "0.5"
      ]
     },
     "execution_count": 11,
     "metadata": {},
     "output_type": "execute_result"
    }
   ],
   "source": [
    "#Wrong as of now check later\n",
    "1 - stats.uniform.cdf(35,loc = 20,scale = 30)"
   ]
  },
  {
   "cell_type": "code",
   "execution_count": 10,
   "id": "2fa077fc-eb88-49d4-a92e-8983fec74de9",
   "metadata": {},
   "outputs": [
    {
     "data": {
      "text/html": [
       "<div>\n",
       "<style scoped>\n",
       "    .dataframe tbody tr th:only-of-type {\n",
       "        vertical-align: middle;\n",
       "    }\n",
       "\n",
       "    .dataframe tbody tr th {\n",
       "        vertical-align: top;\n",
       "    }\n",
       "\n",
       "    .dataframe thead th {\n",
       "        text-align: right;\n",
       "    }\n",
       "</style>\n",
       "<table border=\"1\" class=\"dataframe\">\n",
       "  <thead>\n",
       "    <tr style=\"text-align: right;\">\n",
       "      <th></th>\n",
       "      <th>S.No</th>\n",
       "      <th>Date</th>\n",
       "      <th>Number of Books Sold</th>\n",
       "    </tr>\n",
       "  </thead>\n",
       "  <tbody>\n",
       "    <tr>\n",
       "      <th>0</th>\n",
       "      <td>1</td>\n",
       "      <td>01-01-2020</td>\n",
       "      <td>90</td>\n",
       "    </tr>\n",
       "    <tr>\n",
       "      <th>1</th>\n",
       "      <td>2</td>\n",
       "      <td>02-01-2020</td>\n",
       "      <td>100</td>\n",
       "    </tr>\n",
       "    <tr>\n",
       "      <th>2</th>\n",
       "      <td>3</td>\n",
       "      <td>03-01-2020</td>\n",
       "      <td>100</td>\n",
       "    </tr>\n",
       "    <tr>\n",
       "      <th>3</th>\n",
       "      <td>4</td>\n",
       "      <td>04-01-2020</td>\n",
       "      <td>97</td>\n",
       "    </tr>\n",
       "    <tr>\n",
       "      <th>4</th>\n",
       "      <td>5</td>\n",
       "      <td>05-01-2020</td>\n",
       "      <td>93</td>\n",
       "    </tr>\n",
       "  </tbody>\n",
       "</table>\n",
       "</div>"
      ],
      "text/plain": [
       "   S.No        Date  Number of Books Sold\n",
       "0     1  01-01-2020                    90\n",
       "1     2  02-01-2020                   100\n",
       "2     3  03-01-2020                   100\n",
       "3     4  04-01-2020                    97\n",
       "4     5  05-01-2020                    93"
      ]
     },
     "execution_count": 10,
     "metadata": {},
     "output_type": "execute_result"
    }
   ],
   "source": [
    "import pandas as pd\n",
    "book = pd.read_csv('bookseller.csv')\n",
    "book.head()"
   ]
  },
  {
   "cell_type": "code",
   "execution_count": 13,
   "id": "7487b7dd-62ac-41e9-8f66-8d28b38506ae",
   "metadata": {},
   "outputs": [
    {
     "data": {
      "text/plain": [
       "(366, 3)"
      ]
     },
     "execution_count": 13,
     "metadata": {},
     "output_type": "execute_result"
    }
   ],
   "source": [
    "book.shape"
   ]
  },
  {
   "cell_type": "code",
   "execution_count": 15,
   "id": "ecf7367c-248a-4f0b-a311-e4e60c8b6307",
   "metadata": {},
   "outputs": [],
   "source": [
    "#import matplotlib.pyplot as plt\n",
    "#plt.hist(book(\"Number f books sold: \"), 11)"
   ]
  },
  {
   "cell_type": "code",
   "execution_count": 17,
   "id": "0d853d43-6178-4a7d-b2e3-6f37fe0e5542",
   "metadata": {},
   "outputs": [
    {
     "data": {
      "text/plain": [
       "100"
      ]
     },
     "execution_count": 17,
     "metadata": {},
     "output_type": "execute_result"
    }
   ],
   "source": [
    "max(book['Number of Books Sold'])"
   ]
  },
  {
   "cell_type": "code",
   "execution_count": 18,
   "id": "f71b59a4-e92a-4137-89c5-563ed132a51b",
   "metadata": {},
   "outputs": [
    {
     "data": {
      "text/plain": [
       "90"
      ]
     },
     "execution_count": 18,
     "metadata": {},
     "output_type": "execute_result"
    }
   ],
   "source": [
    "min(book['Number of Books Sold'])\n"
   ]
  },
  {
   "cell_type": "code",
   "execution_count": 21,
   "id": "55925bcb-13cb-4127-8a96-063be232f64d",
   "metadata": {},
   "outputs": [],
   "source": [
    "#a = 90 and b = 100\n",
    "import numpy as np\n",
    "k = np.arange(90,101)"
   ]
  },
  {
   "cell_type": "code",
   "execution_count": 23,
   "id": "dae9a30b-7c78-4dbe-b334-87993f560b02",
   "metadata": {},
   "outputs": [],
   "source": [
    "from scipy.stats import uniform\n",
    "probs = uniform.pdf(k,loc=90,scale=11)"
   ]
  },
  {
   "cell_type": "code",
   "execution_count": 24,
   "id": "d37eb4ae-6791-4c8a-89c1-896786493fcf",
   "metadata": {},
   "outputs": [
    {
     "name": "stdout",
     "output_type": "stream",
     "text": [
      "[0.09090909 0.09090909 0.09090909 0.09090909 0.09090909 0.09090909\n",
      " 0.09090909 0.09090909 0.09090909 0.09090909 0.09090909]\n"
     ]
    }
   ],
   "source": [
    "print(probs)"
   ]
  },
  {
   "cell_type": "code",
   "execution_count": 30,
   "id": "57f964fd-80b2-411f-9ba1-373cb08e5119",
   "metadata": {},
   "outputs": [
    {
     "name": "stdout",
     "output_type": "stream",
     "text": [
      "0.5454545454545454\n"
     ]
    }
   ],
   "source": [
    "#### Find the probability that books sold <= 96\n",
    "\n",
    "k = uniform.cdf(96,90,11)\n",
    "print(k)"
   ]
  },
  {
   "cell_type": "code",
   "execution_count": 29,
   "id": "84ddeb9c-70cb-4e5e-90d2-0917ed00ea94",
   "metadata": {},
   "outputs": [
    {
     "name": "stdout",
     "output_type": "stream",
     "text": [
      "0.4545454545454546\n"
     ]
    }
   ],
   "source": [
    "#### Find the probability that books sold >= 96\n",
    "a = 1 - k\n",
    "print(a)"
   ]
  },
  {
   "cell_type": "markdown",
   "id": "66e923d3-516d-45b8-88b5-e725fa5e704d",
   "metadata": {},
   "source": [
    "#### Problem Statement \n",
    "X = time taken to debug\n",
    "\n",
    "a) Find the probability that the randomly selected bug requires less than 3 hours\n",
    "\n",
    "b) Find the probability that the randomly selected bug requires more than 2 hours\n",
    "\n",
    "c) Find the 50th percentile of software debugging time"
   ]
  },
  {
   "cell_type": "code",
   "execution_count": 33,
   "id": "e8818644-521a-4565-b047-ba1f45be668e",
   "metadata": {},
   "outputs": [
    {
     "data": {
      "text/html": [
       "<div>\n",
       "<style scoped>\n",
       "    .dataframe tbody tr th:only-of-type {\n",
       "        vertical-align: middle;\n",
       "    }\n",
       "\n",
       "    .dataframe tbody tr th {\n",
       "        vertical-align: top;\n",
       "    }\n",
       "\n",
       "    .dataframe thead th {\n",
       "        text-align: right;\n",
       "    }\n",
       "</style>\n",
       "<table border=\"1\" class=\"dataframe\">\n",
       "  <thead>\n",
       "    <tr style=\"text-align: right;\">\n",
       "      <th></th>\n",
       "      <th>Bug ID</th>\n",
       "      <th>Time Taken to fix the bug</th>\n",
       "    </tr>\n",
       "  </thead>\n",
       "  <tbody>\n",
       "    <tr>\n",
       "      <th>0</th>\n",
       "      <td>12986</td>\n",
       "      <td>2.42</td>\n",
       "    </tr>\n",
       "    <tr>\n",
       "      <th>1</th>\n",
       "      <td>12987</td>\n",
       "      <td>2.03</td>\n",
       "    </tr>\n",
       "    <tr>\n",
       "      <th>2</th>\n",
       "      <td>12988</td>\n",
       "      <td>2.74</td>\n",
       "    </tr>\n",
       "    <tr>\n",
       "      <th>3</th>\n",
       "      <td>12989</td>\n",
       "      <td>3.21</td>\n",
       "    </tr>\n",
       "    <tr>\n",
       "      <th>4</th>\n",
       "      <td>12990</td>\n",
       "      <td>3.40</td>\n",
       "    </tr>\n",
       "  </tbody>\n",
       "</table>\n",
       "</div>"
      ],
      "text/plain": [
       "   Bug ID  Time Taken to fix the bug\n",
       "0   12986                       2.42\n",
       "1   12987                       2.03\n",
       "2   12988                       2.74\n",
       "3   12989                       3.21\n",
       "4   12990                       3.40"
      ]
     },
     "execution_count": 33,
     "metadata": {},
     "output_type": "execute_result"
    }
   ],
   "source": [
    "debug = pd.read_csv('debugging.csv')\n",
    "debug.head()"
   ]
  },
  {
   "cell_type": "code",
   "execution_count": 34,
   "id": "1ad88798-f239-41aa-87be-7a48cf4fc915",
   "metadata": {},
   "outputs": [
    {
     "data": {
      "text/plain": [
       "(2098, 2)"
      ]
     },
     "execution_count": 34,
     "metadata": {},
     "output_type": "execute_result"
    }
   ],
   "source": [
    "debug.shape"
   ]
  },
  {
   "cell_type": "code",
   "execution_count": 38,
   "id": "38ca1b6d-3564-4381-8087-e10eb60589e3",
   "metadata": {},
   "outputs": [
    {
     "data": {
      "image/png": "[encoded data removed]",
      "text/plain": [
       "<Figure size 1000x500 with 1 Axes>"
      ]
     },
     "metadata": {},
     "output_type": "display_data"
    }
   ],
   "source": [
    "import seaborn as sns\n",
    "sns.displot(debug[\"Time Taken to fix the bug\"], kde=True, height = 5, aspect = 2)\n",
    "plt.show()"
   ]
  },
  {
   "cell_type": "code",
   "execution_count": 39,
   "id": "3da2b095-113b-41e3-bda0-8986511d9fec",
   "metadata": {},
   "outputs": [
    {
     "data": {
      "text/plain": [
       "5.0"
      ]
     },
     "execution_count": 39,
     "metadata": {},
     "output_type": "execute_result"
    }
   ],
   "source": [
    "max(debug['Time Taken to fix the bug'])"
   ]
  },
  {
   "cell_type": "code",
   "execution_count": 40,
   "id": "5a313d49-6828-49ce-9be3-7fe642672f21",
   "metadata": {},
   "outputs": [
    {
     "data": {
      "text/plain": [
       "1.01"
      ]
     },
     "execution_count": 40,
     "metadata": {},
     "output_type": "execute_result"
    }
   ],
   "source": [
    "min(debug['Time Taken to fix the bug'])\n"
   ]
  },
  {
   "cell_type": "code",
   "execution_count": 42,
   "id": "cc6dad3a-0222-461b-897a-962654e1834d",
   "metadata": {},
   "outputs": [
    {
     "data": {
      "text/plain": [
       "5.0"
      ]
     },
     "execution_count": 42,
     "metadata": {},
     "output_type": "execute_result"
    }
   ],
   "source": [
    "debug['Time Taken to fix the bug'].max()\n"
   ]
  },
  {
   "cell_type": "code",
   "execution_count": 44,
   "id": "3616c915-7020-4a0c-8607-938a4fc6d5b4",
   "metadata": {},
   "outputs": [
    {
     "name": "stdout",
     "output_type": "stream",
     "text": [
      "0.5\n"
     ]
    }
   ],
   "source": [
    "#a) max time of 3 hours p(x<3)\n",
    "k = uniform.cdf(3,1,4)\n",
    "print(k)"
   ]
  },
  {
   "cell_type": "code",
   "execution_count": 47,
   "id": "067a3c95-f35a-4c7e-9914-bec641b4523a",
   "metadata": {},
   "outputs": [
    {
     "name": "stdout",
     "output_type": "stream",
     "text": [
      "0.75\n"
     ]
    }
   ],
   "source": [
    "#b) Find the probability that the randomly selected bug requires more than 2 hours\n",
    "p = 1 - uniform.cdf(2,1,4)\n",
    "print(p)"
   ]
  },
  {
   "cell_type": "code",
   "execution_count": 49,
   "id": "ee238d60-bfe4-4c11-afe1-cb69790652b5",
   "metadata": {},
   "outputs": [
    {
     "name": "stdout",
     "output_type": "stream",
     "text": [
      "3.0\n"
     ]
    }
   ],
   "source": [
    "#c) Find the 50th percentile of software debugging time\n",
    "percent = uniform.ppf(0.5,1,4)\n",
    "print(percent)"
   ]
  },
  {
   "cell_type": "code",
   "execution_count": null,
   "id": "d25a015c-1323-4f95-a19d-de2f05de8912",
   "metadata": {},
   "outputs": [],
   "source": []
  }
 ],
 "metadata": {
  "kernelspec": {
   "display_name": "Python 3 (ipykernel)",
   "language": "python",
   "name": "python3"
  },
  "language_info": {
   "codemirror_mode": {
    "name": "ipython",
    "version": 3
   },
   "file_extension": ".py",
   "mimetype": "text/x-python",
   "name": "python",
   "nbconvert_exporter": "python",
   "pygments_lexer": "ipython3",
   "version": "3.11.2"
  }
 },
 "nbformat": 4,
 "nbformat_minor": 5
}

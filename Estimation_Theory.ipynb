{
 "cells": [
  {
   "cell_type": "code",
   "execution_count": 1,
   "id": "ae54dddc-4be1-4827-a68f-c986887eb979",
   "metadata": {},
   "outputs": [],
   "source": [
    "import pandas as pd\n",
    "student = pd.read_csv('talent_hunt_scores.csv')"
   ]
  },
  {
   "cell_type": "code",
   "execution_count": 2,
   "id": "0b7fe08f-6f10-4bc0-8af9-9f0b86aeca29",
   "metadata": {},
   "outputs": [
    {
     "data": {
      "text/html": [
       "<div>\n",
       "<style scoped>\n",
       "    .dataframe tbody tr th:only-of-type {\n",
       "        vertical-align: middle;\n",
       "    }\n",
       "\n",
       "    .dataframe tbody tr th {\n",
       "        vertical-align: top;\n",
       "    }\n",
       "\n",
       "    .dataframe thead th {\n",
       "        text-align: right;\n",
       "    }\n",
       "</style>\n",
       "<table border=\"1\" class=\"dataframe\">\n",
       "  <thead>\n",
       "    <tr style=\"text-align: right;\">\n",
       "      <th></th>\n",
       "      <th>Computer_Science</th>\n",
       "      <th>Chemistry</th>\n",
       "      <th>Mathematics</th>\n",
       "      <th>Physics</th>\n",
       "    </tr>\n",
       "  </thead>\n",
       "  <tbody>\n",
       "    <tr>\n",
       "      <th>0</th>\n",
       "      <td>74.41</td>\n",
       "      <td>103.29</td>\n",
       "      <td>95.21</td>\n",
       "      <td>74.25</td>\n",
       "    </tr>\n",
       "    <tr>\n",
       "      <th>1</th>\n",
       "      <td>83.02</td>\n",
       "      <td>88.96</td>\n",
       "      <td>74.95</td>\n",
       "      <td>96.26</td>\n",
       "    </tr>\n",
       "    <tr>\n",
       "      <th>2</th>\n",
       "      <td>79.57</td>\n",
       "      <td>85.67</td>\n",
       "      <td>63.88</td>\n",
       "      <td>100.01</td>\n",
       "    </tr>\n",
       "    <tr>\n",
       "      <th>3</th>\n",
       "      <td>75.55</td>\n",
       "      <td>84.31</td>\n",
       "      <td>99.49</td>\n",
       "      <td>91.51</td>\n",
       "    </tr>\n",
       "    <tr>\n",
       "      <th>4</th>\n",
       "      <td>97.16</td>\n",
       "      <td>88.70</td>\n",
       "      <td>82.81</td>\n",
       "      <td>93.38</td>\n",
       "    </tr>\n",
       "  </tbody>\n",
       "</table>\n",
       "</div>"
      ],
      "text/plain": [
       "   Computer_Science  Chemistry  Mathematics  Physics\n",
       "0             74.41     103.29        95.21    74.25\n",
       "1             83.02      88.96        74.95    96.26\n",
       "2             79.57      85.67        63.88   100.01\n",
       "3             75.55      84.31        99.49    91.51\n",
       "4             97.16      88.70        82.81    93.38"
      ]
     },
     "execution_count": 2,
     "metadata": {},
     "output_type": "execute_result"
    }
   ],
   "source": [
    "student.head()"
   ]
  },
  {
   "cell_type": "markdown",
   "id": "4255b838-eee4-4f38-8a95-bc427c7c84be",
   "metadata": {},
   "source": [
    "write down the null and alternate hypothesis\n",
    "\n",
    "*mu >= 82 #null hypothesis\n",
    "*mu < 82  #alternative hypothesis"
   ]
  },
  {
   "cell_type": "code",
   "execution_count": null,
   "id": "8202cb49-79d2-40d4-b543-5ff1c0b2d624",
   "metadata": {},
   "outputs": [],
   "source": [
    "score_3 = df.Mathematics.mean()\n"
   ]
  }
 ],
 "metadata": {
  "kernelspec": {
   "display_name": "Python 3 (ipykernel)",
   "language": "python",
   "name": "python3"
  },
  "language_info": {
   "codemirror_mode": {
    "name": "ipython",
    "version": 3
   },
   "file_extension": ".py",
   "mimetype": "text/x-python",
   "name": "python",
   "nbconvert_exporter": "python",
   "pygments_lexer": "ipython3",
   "version": "3.11.2"
  }
 },
 "nbformat": 4,
 "nbformat_minor": 5
}
